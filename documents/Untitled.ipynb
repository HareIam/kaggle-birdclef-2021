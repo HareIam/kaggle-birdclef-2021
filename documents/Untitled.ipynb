{
 "cells": [
  {
   "cell_type": "code",
   "execution_count": null,
   "metadata": {},
   "outputs": [],
   "source": []
  },
  {
   "cell_type": "code",
   "execution_count": null,
   "metadata": {},
   "outputs": [],
   "source": []
  },
  {
   "cell_type": "markdown",
   "metadata": {},
   "source": [
    "## アプローチ\n",
    "\n",
    "- SED方式\n",
    "    - 鳴いたと思われるタイミングごとに判定\n",
    "- メルスペクトログラムのクラス分類\n",
    "    - 一定時間(5秒, 10秒)以内に鳥の鳴き声があるかで判定"
   ]
  },
  {
   "cell_type": "markdown",
   "metadata": {},
   "source": [
    "## とっかかり\n",
    "\n",
    "- https://www.kaggle.com/hidehisaarai1213/introduction-to-sound-event-detection\n",
    "        - Sound Event Detection"
   ]
  },
  {
   "cell_type": "markdown",
   "metadata": {},
   "source": [
    "## 1st\n",
    "\n",
    "https://www.kaggle.com/c/birdsong-recognition/discussion/183208\n",
    "\n",
    "- Data Augmentation\n",
    "    - Pink Noise\n",
    "    - Gauss Noise\n",
    "- モデル\n",
    "    - 4 folds w/ \n",
    "- トレーニング\n",
    "    - batch size: 28\n",
    "    - optimizer: AdamW\n",
    "    - 損失関数\n",
    "    \n",
    "### key idea\n",
    "\n",
    "- 損失関数\n",
    "    "
   ]
  },
  {
   "cell_type": "code",
   "execution_count": null,
   "metadata": {},
   "outputs": [],
   "source": []
  },
  {
   "cell_type": "code",
   "execution_count": null,
   "metadata": {},
   "outputs": [],
   "source": []
  }
 ],
 "metadata": {
  "kernelspec": {
   "display_name": "Python 3",
   "language": "python",
   "name": "python3"
  },
  "language_info": {
   "codemirror_mode": {
    "name": "ipython",
    "version": 3
   },
   "file_extension": ".py",
   "mimetype": "text/x-python",
   "name": "python",
   "nbconvert_exporter": "python",
   "pygments_lexer": "ipython3",
   "version": "3.7.4"
  }
 },
 "nbformat": 4,
 "nbformat_minor": 2
}
