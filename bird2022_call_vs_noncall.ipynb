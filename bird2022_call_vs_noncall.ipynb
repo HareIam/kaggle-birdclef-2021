{
 "cells": [
  {
   "cell_type": "markdown",
   "id": "0ba826fe",
   "metadata": {
    "papermill": {
     "duration": 0.014912,
     "end_time": "2022-03-13T16:01:08.391428",
     "exception": false,
     "start_time": "2022-03-13T16:01:08.376516",
     "status": "completed"
    },
    "tags": []
   },
   "source": [
    "# Credit\n",
    "\n",
    "This notebook is based on the following notebook by @yasufuminakama. I would like to take this opportunity to thank him.\n",
    "\n",
    "Please vote for his notebook as well.\n",
    "\n",
    "https://www.kaggle.com/yasufuminakama/cassava-resnext50-32x4d-starter-training\n",
    "\n",
    "# Summary of this notebook\n",
    "\n",
    "In this notebook, we are gonna build the nocall detector. (0:nocall, 1:somebird singing)\n",
    "\n",
    "The output of the models would be probability value.\n",
    "\n",
    "# input & output of this notebook\n",
    "\n",
    "[input]\n",
    "\n",
    "freefield1010 data\n",
    "\n",
    "https://www.kaggle.com/startjapan/ff1010bird-duration7\n",
    "\n",
    "[output]\n",
    "\n",
    "Nocall detector models are outputted."
   ]
  },
  {
   "cell_type": "code",
   "execution_count": 1,
   "id": "1194a20f",
   "metadata": {
    "execution": {
     "iopub.execute_input": "2022-03-13T16:01:08.425435Z",
     "iopub.status.busy": "2022-03-13T16:01:08.423890Z",
     "iopub.status.idle": "2022-03-13T16:01:08.432991Z",
     "shell.execute_reply": "2022-03-13T16:01:08.433374Z",
     "shell.execute_reply.started": "2022-03-13T15:44:37.883818Z"
    },
    "papermill": {
     "duration": 0.026872,
     "end_time": "2022-03-13T16:01:08.433588",
     "exception": false,
     "start_time": "2022-03-13T16:01:08.406716",
     "status": "completed"
    },
    "tags": []
   },
   "outputs": [],
   "source": [
    "import os\n",
    "\n",
    "OUTPUT_DIR = './'\n",
    "if not os.path.exists(OUTPUT_DIR):\n",
    "    os.makedirs(OUTPUT_DIR)"
   ]
  },
  {
   "cell_type": "code",
   "execution_count": 2,
   "id": "64f7d216",
   "metadata": {
    "execution": {
     "iopub.execute_input": "2022-03-13T16:01:08.466150Z",
     "iopub.status.busy": "2022-03-13T16:01:08.465449Z",
     "iopub.status.idle": "2022-03-13T16:01:10.002373Z",
     "shell.execute_reply": "2022-03-13T16:01:10.001739Z",
     "shell.execute_reply.started": "2022-03-13T15:44:37.898764Z"
    },
    "papermill": {
     "duration": 1.555347,
     "end_time": "2022-03-13T16:01:10.002517",
     "exception": false,
     "start_time": "2022-03-13T16:01:08.447170",
     "status": "completed"
    },
    "tags": []
   },
   "outputs": [],
   "source": [
    "import torch\n",
    "\n",
    "class CFG:\n",
    "    print_freq=100\n",
    "    num_workers=4\n",
    "    model_name= 'resnext50_32x4d'\n",
    "    dim=(128, 281)\n",
    "    scheduler='CosineAnnealingWarmRestarts'\n",
    "    epochs=10\n",
    "    lr=1e-4\n",
    "    T_0=10 # for CosineAnnealingWarmRestarts\n",
    "    min_lr=5e-7 # for CosineAnnealingWarmRestarts\n",
    "    batch_size=32\n",
    "    weight_decay=1e-6\n",
    "    max_grad_norm=1000\n",
    "    seed=42\n",
    "    target_size=2\n",
    "    target_col='hasbird'\n",
    "    n_fold = 5\n",
    "    pretrained = True\n",
    "    device = torch.device('cuda' if torch.cuda.is_available() else 'cpu')"
   ]
  },
  {
   "cell_type": "code",
   "execution_count": 3,
   "id": "99feedc0",
   "metadata": {
    "execution": {
     "iopub.execute_input": "2022-03-13T16:01:10.033966Z",
     "iopub.status.busy": "2022-03-13T16:01:10.033251Z",
     "iopub.status.idle": "2022-03-13T16:01:18.540055Z",
     "shell.execute_reply": "2022-03-13T16:01:18.539550Z",
     "shell.execute_reply.started": "2022-03-13T15:44:37.921505Z"
    },
    "papermill": {
     "duration": 8.523873,
     "end_time": "2022-03-13T16:01:18.540194",
     "exception": false,
     "start_time": "2022-03-13T16:01:10.016321",
     "status": "completed"
    },
    "tags": []
   },
   "outputs": [
    {
     "name": "stdout",
     "output_type": "stream",
     "text": [
      "Requirement already satisfied: matplotlib in /opt/conda/lib/python3.7/site-packages (3.5.1)\r\n",
      "Requirement already satisfied: pyparsing>=2.2.1 in /opt/conda/lib/python3.7/site-packages (from matplotlib) (3.0.6)\r\n",
      "Requirement already satisfied: cycler>=0.10 in /opt/conda/lib/python3.7/site-packages (from matplotlib) (0.11.0)\r\n",
      "Requirement already satisfied: packaging>=20.0 in /opt/conda/lib/python3.7/site-packages (from matplotlib) (21.3)\r\n",
      "Requirement already satisfied: python-dateutil>=2.7 in /opt/conda/lib/python3.7/site-packages (from matplotlib) (2.8.2)\r\n",
      "Requirement already satisfied: pillow>=6.2.0 in /opt/conda/lib/python3.7/site-packages (from matplotlib) (8.2.0)\r\n",
      "Requirement already satisfied: numpy>=1.17 in /opt/conda/lib/python3.7/site-packages (from matplotlib) (1.20.3)\r\n",
      "Requirement already satisfied: fonttools>=4.22.0 in /opt/conda/lib/python3.7/site-packages (from matplotlib) (4.28.4)\r\n",
      "Requirement already satisfied: kiwisolver>=1.0.1 in /opt/conda/lib/python3.7/site-packages (from matplotlib) (1.3.2)\r\n",
      "Requirement already satisfied: six>=1.5 in /opt/conda/lib/python3.7/site-packages (from python-dateutil>=2.7->matplotlib) (1.16.0)\r\n",
      "\u001b[33mWARNING: Running pip as the 'root' user can result in broken permissions and conflicting behaviour with the system package manager. It is recommended to use a virtual environment instead: https://pip.pypa.io/warnings/venv\u001b[0m\r\n"
     ]
    }
   ],
   "source": [
    "!pip install matplotlib"
   ]
  },
  {
   "cell_type": "code",
   "execution_count": 4,
   "id": "629aec91",
   "metadata": {
    "execution": {
     "iopub.execute_input": "2022-03-13T16:01:18.578225Z",
     "iopub.status.busy": "2022-03-13T16:01:18.577541Z",
     "iopub.status.idle": "2022-03-13T16:01:19.429843Z",
     "shell.execute_reply": "2022-03-13T16:01:19.430279Z",
     "shell.execute_reply.started": "2022-03-13T15:44:48.322208Z"
    },
    "papermill": {
     "duration": 0.874998,
     "end_time": "2022-03-13T16:01:19.430428",
     "exception": false,
     "start_time": "2022-03-13T16:01:18.555430",
     "status": "completed"
    },
    "tags": []
   },
   "outputs": [
    {
     "name": "stdout",
     "output_type": "stream",
     "text": [
      "fold  hasbird\n",
      "0     0          1151\n",
      "      1           387\n",
      "1     0          1151\n",
      "      1           387\n",
      "2     0          1151\n",
      "      1           387\n",
      "3     0          1151\n",
      "      1           387\n",
      "4     0          1151\n",
      "      1           387\n",
      "dtype: int64\n"
     ]
    }
   ],
   "source": [
    "from sklearn.model_selection import StratifiedKFold\n",
    "import pandas as pd\n",
    "\n",
    "train = pd.read_csv('../input/ff1010bird-duration7/rich_metadata.csv')\n",
    "train.loc[train['hasbird']==0, 'filepath'] = '../input/ff1010bird-duration7/nocall/' + train.query('hasbird==0')['filename'] + '.npy'\n",
    "train.loc[train['hasbird']==1, 'filepath'] = '../input/ff1010bird-duration7/bird/' + train.query('hasbird==1')['filename'] + '.npy'\n",
    "\n",
    "train = train.dropna().reset_index(drop=True)\n",
    "\n",
    "folds = train.copy()\n",
    "Fold = StratifiedKFold(n_splits=CFG.n_fold, shuffle=True, random_state=CFG.seed)\n",
    "for n, (train_index, val_index) in enumerate(Fold.split(folds, folds[CFG.target_col])):\n",
    "    folds.loc[val_index, 'fold'] = int(n)\n",
    "folds['fold'] = folds['fold'].astype(int)\n",
    "print(folds.groupby(['fold', CFG.target_col]).size())"
   ]
  },
  {
   "cell_type": "code",
   "execution_count": 5,
   "id": "131c5f48",
   "metadata": {
    "execution": {
     "iopub.execute_input": "2022-03-13T16:01:19.470985Z",
     "iopub.status.busy": "2022-03-13T16:01:19.470369Z",
     "iopub.status.idle": "2022-03-13T16:01:30.551922Z",
     "shell.execute_reply": "2022-03-13T16:01:30.551386Z",
     "shell.execute_reply.started": "2022-03-13T15:44:48.396042Z"
    },
    "papermill": {
     "duration": 11.106918,
     "end_time": "2022-03-13T16:01:30.552057",
     "exception": false,
     "start_time": "2022-03-13T16:01:19.445139",
     "status": "completed"
    },
    "tags": []
   },
   "outputs": [
    {
     "name": "stdout",
     "output_type": "stream",
     "text": [
      "Collecting timm\r\n",
      "  Downloading timm-0.5.4-py3-none-any.whl (431 kB)\r\n",
      "     |████████████████████████████████| 431 kB 763 kB/s            \r\n",
      "\u001b[?25hRequirement already satisfied: torchvision in /opt/conda/lib/python3.7/site-packages (from timm) (0.10.1)\r\n",
      "Requirement already satisfied: torch>=1.4 in /opt/conda/lib/python3.7/site-packages (from timm) (1.9.1)\r\n",
      "Requirement already satisfied: typing-extensions in /opt/conda/lib/python3.7/site-packages (from torch>=1.4->timm) (4.1.1)\r\n",
      "Requirement already satisfied: numpy in /opt/conda/lib/python3.7/site-packages (from torchvision->timm) (1.20.3)\r\n",
      "Requirement already satisfied: pillow>=5.3.0 in /opt/conda/lib/python3.7/site-packages (from torchvision->timm) (8.2.0)\r\n",
      "Installing collected packages: timm\r\n",
      "Successfully installed timm-0.5.4\r\n",
      "\u001b[33mWARNING: Running pip as the 'root' user can result in broken permissions and conflicting behaviour with the system package manager. It is recommended to use a virtual environment instead: https://pip.pypa.io/warnings/venv\u001b[0m\r\n"
     ]
    }
   ],
   "source": [
    "import os\n",
    "import math\n",
    "import time\n",
    "import random\n",
    "import shutil\n",
    "from pathlib import Path\n",
    "from contextlib import contextmanager\n",
    "from collections import defaultdict, Counter\n",
    "\n",
    "import scipy as sp\n",
    "import numpy as np\n",
    "import pandas as pd\n",
    "import matplotlib.pyplot as plt\n",
    "\n",
    "from sklearn import preprocessing\n",
    "from sklearn.metrics import accuracy_score, confusion_matrix\n",
    "from sklearn.model_selection import StratifiedKFold\n",
    "\n",
    "from tqdm.auto import tqdm\n",
    "from functools import partial\n",
    "\n",
    "import cv2\n",
    "from PIL import Image\n",
    "\n",
    "import cv2\n",
    "from PIL import Image\n",
    "\n",
    "import torch\n",
    "import torch.nn as nn\n",
    "import torch.nn.functional as F\n",
    "from torch.optim import Adam, SGD\n",
    "import torchvision.models as models\n",
    "from torch.nn.parameter import Parameter\n",
    "from torch.utils.data import DataLoader, Dataset\n",
    "from torch.optim.lr_scheduler import CosineAnnealingWarmRestarts\n",
    "\n",
    "import albumentations as A\n",
    "from albumentations.pytorch import ToTensorV2\n",
    "from albumentations import ImageOnlyTransform\n",
    "\n",
    "!pip install timm\n",
    "import timm\n",
    "\n",
    "import warnings \n",
    "warnings.filterwarnings('ignore')"
   ]
  },
  {
   "cell_type": "code",
   "execution_count": 6,
   "id": "c8c92c83",
   "metadata": {
    "execution": {
     "iopub.execute_input": "2022-03-13T16:01:30.598566Z",
     "iopub.status.busy": "2022-03-13T16:01:30.596712Z",
     "iopub.status.idle": "2022-03-13T16:01:30.603578Z",
     "shell.execute_reply": "2022-03-13T16:01:30.603990Z",
     "shell.execute_reply.started": "2022-03-13T15:45:00.432316Z"
    },
    "papermill": {
     "duration": 0.033251,
     "end_time": "2022-03-13T16:01:30.604125",
     "exception": false,
     "start_time": "2022-03-13T16:01:30.570874",
     "status": "completed"
    },
    "tags": []
   },
   "outputs": [],
   "source": [
    "def get_score(y_true, y_pred):\n",
    "    return accuracy_score(y_true, y_pred)\n",
    "\n",
    "def get_confusion_matrix(y_true, y_pred):\n",
    "    return confusion_matrix(y_true, y_pred)\n",
    "\n",
    "@contextmanager\n",
    "def timer(name):\n",
    "    t0 = time.time()\n",
    "    LOGGER.info(f'[{name}] start')\n",
    "    yield\n",
    "    LOGGER.info(f'[{name}] done in {time.time() - t0:.0f} s.')\n",
    "\n",
    "\n",
    "def init_logger(log_file=OUTPUT_DIR+'train.log'):\n",
    "    from logging import getLogger, INFO, FileHandler,  Formatter,  StreamHandler\n",
    "    logger = getLogger(__name__)\n",
    "    logger.setLevel(INFO)\n",
    "    handler1 = StreamHandler()\n",
    "    handler1.setFormatter(Formatter(\"%(message)s\"))\n",
    "    handler2 = FileHandler(filename=log_file)\n",
    "    handler2.setFormatter(Formatter(\"%(message)s\"))\n",
    "    logger.addHandler(handler1)\n",
    "    logger.addHandler(handler2)\n",
    "    return logger\n",
    "\n",
    "LOGGER = init_logger()\n",
    "\n",
    "\n",
    "def seed_torch(seed=42):\n",
    "    random.seed(seed)\n",
    "    os.environ['PYTHONHASHSEED'] = str(seed)\n",
    "    np.random.seed(seed)\n",
    "    torch.manual_seed(seed)\n",
    "    torch.cuda.manual_seed(seed)\n",
    "    torch.backends.cudnn.deterministic = True\n",
    "\n",
    "seed_torch(seed=CFG.seed)"
   ]
  },
  {
   "cell_type": "code",
   "execution_count": 7,
   "id": "957202e3",
   "metadata": {
    "execution": {
     "iopub.execute_input": "2022-03-13T16:01:30.647813Z",
     "iopub.status.busy": "2022-03-13T16:01:30.647060Z",
     "iopub.status.idle": "2022-03-13T16:01:30.649027Z",
     "shell.execute_reply": "2022-03-13T16:01:30.649486Z",
     "shell.execute_reply.started": "2022-03-13T15:45:00.452845Z"
    },
    "papermill": {
     "duration": 0.027707,
     "end_time": "2022-03-13T16:01:30.649606",
     "exception": false,
     "start_time": "2022-03-13T16:01:30.621899",
     "status": "completed"
    },
    "tags": []
   },
   "outputs": [],
   "source": [
    "class TrainDataset(Dataset):\n",
    "    def __init__(self, df, transform=None):\n",
    "        self.df = df\n",
    "        self.file_paths = df['filepath'].values\n",
    "        self.labels = df['hasbird'].values\n",
    "        self.transform = transform\n",
    "        \n",
    "    def __len__(self):\n",
    "        return len(self.df)\n",
    "\n",
    "    def __getitem__(self, idx):\n",
    "        file_name = self.file_paths[idx]\n",
    "        file_path = file_name\n",
    "        image = np.load(file_path)\n",
    "        image = image.transpose(1,2,0)\n",
    "        image = np.squeeze(image)\n",
    "        image = np.stack((image,)*3, -1)\n",
    "        if self.transform:\n",
    "            augmented = self.transform(image=image)\n",
    "            image = augmented['image']\n",
    "        label = torch.tensor(self.labels[idx]).long()\n",
    "        return image, label"
   ]
  },
  {
   "cell_type": "code",
   "execution_count": 8,
   "id": "0e67d64e",
   "metadata": {
    "execution": {
     "iopub.execute_input": "2022-03-13T16:01:30.692520Z",
     "iopub.status.busy": "2022-03-13T16:01:30.691715Z",
     "iopub.status.idle": "2022-03-13T16:01:30.694179Z",
     "shell.execute_reply": "2022-03-13T16:01:30.693645Z",
     "shell.execute_reply.started": "2022-03-13T15:45:00.467189Z"
    },
    "papermill": {
     "duration": 0.027043,
     "end_time": "2022-03-13T16:01:30.694302",
     "exception": false,
     "start_time": "2022-03-13T16:01:30.667259",
     "status": "completed"
    },
    "tags": []
   },
   "outputs": [],
   "source": [
    "def get_transforms(*, data):\n",
    "    \n",
    "    if data == 'train':\n",
    "        return A.Compose([\n",
    "            A.Resize(CFG.dim[0], CFG.dim[1]),\n",
    "            A.HorizontalFlip(p=0.5),\n",
    "            A.VerticalFlip(p=0.5),\n",
    "            A.augmentations.transforms.JpegCompression(p=0.5),\n",
    "            A.augmentations.transforms.ImageCompression(p=0.5, compression_type=A.augmentations.transforms.ImageCompression.ImageCompressionType.WEBP),\n",
    "            A.Normalize(\n",
    "                mean=[0.485, 0.456, 0.406],\n",
    "                std=[0.229, 0.224, 0.225],\n",
    "            ),\n",
    "            ToTensorV2(),\n",
    "        ])\n",
    "\n",
    "    elif data == 'valid':\n",
    "        return A.Compose([\n",
    "            A.Resize(CFG.dim[0], CFG.dim[1]),\n",
    "            A.Normalize(\n",
    "                mean=[0.485, 0.456, 0.406],\n",
    "                std=[0.229, 0.224, 0.225],\n",
    "            ),\n",
    "            ToTensorV2(),\n",
    "        ])"
   ]
  },
  {
   "cell_type": "code",
   "execution_count": 9,
   "id": "74af4e50",
   "metadata": {
    "execution": {
     "iopub.execute_input": "2022-03-13T16:01:30.732049Z",
     "iopub.status.busy": "2022-03-13T16:01:30.731263Z",
     "iopub.status.idle": "2022-03-13T16:01:30.736443Z",
     "shell.execute_reply": "2022-03-13T16:01:30.736829Z",
     "shell.execute_reply.started": "2022-03-13T15:45:00.483885Z"
    },
    "papermill": {
     "duration": 0.025179,
     "end_time": "2022-03-13T16:01:30.736952",
     "exception": false,
     "start_time": "2022-03-13T16:01:30.711773",
     "status": "completed"
    },
    "tags": []
   },
   "outputs": [],
   "source": [
    "class CustomResNext(nn.Module):\n",
    "    def __init__(self, model_name='resnext50_32x4d', pretrained=True):\n",
    "        super().__init__()\n",
    "        self.model = timm.create_model(model_name, pretrained=pretrained)\n",
    "        n_features = self.model.fc.in_features\n",
    "        self.model.fc = nn.Linear(n_features, CFG.target_size)\n",
    "\n",
    "    def forward(self, x):\n",
    "        x = self.model(x)\n",
    "        return x"
   ]
  },
  {
   "cell_type": "code",
   "execution_count": 10,
   "id": "46d69c61",
   "metadata": {
    "execution": {
     "iopub.execute_input": "2022-03-13T16:01:30.796828Z",
     "iopub.status.busy": "2022-03-13T16:01:30.781287Z",
     "iopub.status.idle": "2022-03-13T16:01:30.800606Z",
     "shell.execute_reply": "2022-03-13T16:01:30.801028Z",
     "shell.execute_reply.started": "2022-03-13T15:45:00.500420Z"
    },
    "papermill": {
     "duration": 0.046294,
     "end_time": "2022-03-13T16:01:30.801156",
     "exception": false,
     "start_time": "2022-03-13T16:01:30.754862",
     "status": "completed"
    },
    "tags": []
   },
   "outputs": [],
   "source": [
    "class AverageMeter(object):\n",
    "    \"\"\"Computes and stores the average and current value\"\"\"\n",
    "    def __init__(self):\n",
    "        self.reset()\n",
    "\n",
    "    def reset(self):\n",
    "        self.val = 0\n",
    "        self.avg = 0\n",
    "        self.sum = 0\n",
    "        self.count = 0\n",
    "\n",
    "    def update(self, val, n=1):\n",
    "        self.val = val\n",
    "        self.sum += val * n\n",
    "        self.count += n\n",
    "        self.avg = self.sum / self.count\n",
    "\n",
    "\n",
    "def asMinutes(s):\n",
    "    m = math.floor(s / 60)\n",
    "    s -= m * 60\n",
    "    return '%dm %ds' % (m, s)\n",
    "\n",
    "def timeSince(since, percent):\n",
    "    now = time.time()\n",
    "    s = now - since\n",
    "    es = s / (percent)\n",
    "    rs = es - s\n",
    "    return '%s (remain %s)' % (asMinutes(s), asMinutes(rs))\n",
    "\n",
    "\n",
    "def train_fn(train_loader, model, criterion, optimizer, epoch, scheduler, device):\n",
    "    batch_time = AverageMeter()\n",
    "    data_time = AverageMeter()\n",
    "    losses = AverageMeter()\n",
    "    scores = AverageMeter()\n",
    "    # switch to train mode\n",
    "    model.train()\n",
    "    start = end = time.time()\n",
    "    global_step = 0\n",
    "    for step, (images, labels) in enumerate(train_loader):\n",
    "        # measure data loading time\n",
    "        data_time.update(time.time() - end)\n",
    "        images = images.to(device)\n",
    "        labels = labels.to(device)\n",
    "        batch_size = labels.size(0)\n",
    "        y_preds = model(images)\n",
    "        loss = criterion(y_preds, labels)\n",
    "        # record loss\n",
    "        losses.update(loss.item(), batch_size)\n",
    "        loss.backward()\n",
    "        grad_norm = torch.nn.utils.clip_grad_norm_(model.parameters(), CFG.max_grad_norm)\n",
    "        \n",
    "        optimizer.step()\n",
    "        optimizer.zero_grad()\n",
    "        global_step += 1\n",
    "        # measure elapsed time\n",
    "        batch_time.update(time.time() - end)\n",
    "        end = time.time()\n",
    "        if step % CFG.print_freq == 0 or step == (len(train_loader)-1):\n",
    "            print('Epoch: [{0}][{1}/{2}] '\n",
    "                  'Data {data_time.val:.3f} ({data_time.avg:.3f}) '\n",
    "                  'Elapsed {remain:s} '\n",
    "                  'Loss: {loss.val:.4f}({loss.avg:.4f}) '\n",
    "                  'Grad: {grad_norm:.4f}  '\n",
    "                  .format(\n",
    "                   epoch+1, step+1, len(train_loader), batch_time=batch_time,\n",
    "                   data_time=data_time, loss=losses,\n",
    "                   remain=timeSince(start, float(step+1)/len(train_loader)),\n",
    "                   grad_norm=grad_norm,\n",
    "                   ))\n",
    "    return losses.avg\n",
    "\n",
    "def valid_fn(valid_loader, model, criterion, device):\n",
    "    batch_time = AverageMeter()\n",
    "    data_time = AverageMeter()\n",
    "    losses = AverageMeter()\n",
    "    scores = AverageMeter()\n",
    "    # switch to evaluation mode\n",
    "    model.eval()\n",
    "    preds = []\n",
    "    start = end = time.time()\n",
    "    for step, (images, labels) in enumerate(valid_loader):\n",
    "        # measure data loading time\n",
    "        data_time.update(time.time() - end)\n",
    "        images = images.to(device)\n",
    "        labels = labels.to(device)\n",
    "        batch_size = labels.size(0)\n",
    "        # compute loss\n",
    "        with torch.no_grad():\n",
    "            y_preds = model(images)\n",
    "        loss = criterion(y_preds, labels)\n",
    "        losses.update(loss.item(), batch_size)\n",
    "        # record accuracy\n",
    "        preds.append(y_preds.softmax(1).to('cpu').numpy())\n",
    "        # measure elapsed time\n",
    "        batch_time.update(time.time() - end)\n",
    "        end = time.time()\n",
    "        if step % CFG.print_freq == 0 or step == (len(valid_loader)-1):\n",
    "            print('EVAL: [{0}/{1}] '\n",
    "                  'Data {data_time.val:.3f} ({data_time.avg:.3f}) '\n",
    "                  'Elapsed {remain:s} '\n",
    "                  'Loss: {loss.val:.4f}({loss.avg:.4f}) '\n",
    "                  .format(\n",
    "                   step+1, len(valid_loader), batch_time=batch_time,\n",
    "                   data_time=data_time, loss=losses,\n",
    "                   remain=timeSince(start, float(step+1)/len(valid_loader)),\n",
    "                   ))\n",
    "    predictions = np.concatenate(preds)\n",
    "    return losses.avg, predictions\n",
    "\n",
    "def inference(model, states, test_loader, device):\n",
    "    model.to(device)\n",
    "    tk0 = tqdm(enumerate(test_loader), total=len(test_loader))\n",
    "    probs = []\n",
    "    for i, (images) in tk0:\n",
    "        images = images.to(device)\n",
    "        avg_preds = []\n",
    "        for state in states:\n",
    "            model.load_state_dict(state['model'])\n",
    "            model.eval()\n",
    "            with torch.no_grad():\n",
    "                y_preds = model(images)\n",
    "            avg_preds.append(y_preds.softmax(1).to('cpu').numpy())\n",
    "        avg_preds = np.mean(avg_preds, axis=0)\n",
    "        probs.append(avg_preds)\n",
    "    probs = np.concatenate(probs)\n",
    "    return probs"
   ]
  },
  {
   "cell_type": "code",
   "execution_count": 11,
   "id": "0160339a",
   "metadata": {
    "execution": {
     "iopub.execute_input": "2022-03-13T16:01:30.850395Z",
     "iopub.status.busy": "2022-03-13T16:01:30.849622Z",
     "iopub.status.idle": "2022-03-13T16:01:30.851951Z",
     "shell.execute_reply": "2022-03-13T16:01:30.851516Z",
     "shell.execute_reply.started": "2022-03-13T15:45:00.535800Z"
    },
    "papermill": {
     "duration": 0.033302,
     "end_time": "2022-03-13T16:01:30.852061",
     "exception": false,
     "start_time": "2022-03-13T16:01:30.818759",
     "status": "completed"
    },
    "tags": []
   },
   "outputs": [],
   "source": [
    "def train_loop(train_folds, valid_folds):\n",
    "\n",
    "    LOGGER.info(f\"========== training ==========\")\n",
    "\n",
    "    # ====================================================\n",
    "    # loader\n",
    "    # ====================================================\n",
    "    train_dataset = TrainDataset(train_folds, \n",
    "                                 transform=get_transforms(data='train'))\n",
    "    valid_dataset = TrainDataset(valid_folds, \n",
    "                                 transform=get_transforms(data='valid'))\n",
    "\n",
    "    train_loader = DataLoader(train_dataset, \n",
    "                              batch_size=CFG.batch_size, \n",
    "                              shuffle=False, \n",
    "                              num_workers=CFG.num_workers, pin_memory=True, drop_last=True)\n",
    "    valid_loader = DataLoader(valid_dataset, \n",
    "                              batch_size=CFG.batch_size, \n",
    "                              shuffle=False, \n",
    "                              num_workers=CFG.num_workers, pin_memory=True, drop_last=False)\n",
    "    \n",
    "    def get_scheduler(optimizer):\n",
    "        scheduler = CosineAnnealingWarmRestarts(optimizer, T_0=CFG.T_0, T_mult=1, eta_min=CFG.min_lr, last_epoch=-1)\n",
    "        return scheduler\n",
    "\n",
    "    # ====================================================\n",
    "    # model & optimizer\n",
    "    # ====================================================\n",
    "    model = CustomResNext(CFG.model_name, pretrained=True)\n",
    "    model.to(CFG.device)\n",
    "    \n",
    "    optimizer = Adam(model.parameters(), lr=CFG.lr, weight_decay=CFG.weight_decay, amsgrad=False)\n",
    "    scheduler = get_scheduler(optimizer)\n",
    "\n",
    "    # ====================================================\n",
    "    # loop\n",
    "    # ====================================================\n",
    "    criterion = nn.CrossEntropyLoss()\n",
    "\n",
    "    best_score = 0.\n",
    "    best_loss = np.inf\n",
    "    \n",
    "    scores = []\n",
    "    \n",
    "    for epoch in range(CFG.epochs):\n",
    "        \n",
    "        start_time = time.time()\n",
    "        \n",
    "        # train\n",
    "        avg_loss = train_fn(train_loader, model, criterion, optimizer, epoch, scheduler, CFG.device)\n",
    "        \n",
    "        # eval\n",
    "        avg_val_loss, preds = valid_fn(valid_loader, model, criterion, CFG.device)\n",
    "        valid_labels = valid_folds[CFG.target_col].values\n",
    "        \n",
    "        scheduler.step()\n",
    "\n",
    "        # scoring\n",
    "        score = get_score(valid_labels, preds.argmax(1))\n",
    "\n",
    "        elapsed = time.time() - start_time\n",
    "\n",
    "        LOGGER.info(f'Epoch {epoch+1} - avg_train_loss: {avg_loss:.4f}  avg_val_loss: {avg_val_loss:.4f}  time: {elapsed:.0f}s')\n",
    "        LOGGER.info(f'Epoch {epoch+1} - Accuracy: {score}')\n",
    "        \n",
    "        scores.append(score)\n",
    "        \n",
    "        if score > best_score:\n",
    "            best_score = score\n",
    "            LOGGER.info(f'Epoch {epoch+1} - Save Best Score: {best_score:.4f} Model')\n",
    "            torch.save({'model': model.state_dict(), \n",
    "                        'preds': preds},\n",
    "                        OUTPUT_DIR+f'{CFG.model_name}_best.pth')\n",
    "    \n",
    "    check_point = torch.load(OUTPUT_DIR+f'{CFG.model_name}_best.pth')\n",
    "    valid_folds[[str(c) for c in range(CFG.target_size)]] = check_point['preds']\n",
    "    valid_folds['preds'] = check_point['preds'].argmax(1)\n",
    "\n",
    "    return valid_folds, scores"
   ]
  },
  {
   "cell_type": "code",
   "execution_count": 12,
   "id": "4be37167",
   "metadata": {
    "execution": {
     "iopub.execute_input": "2022-03-13T16:01:30.895700Z",
     "iopub.status.busy": "2022-03-13T16:01:30.895007Z",
     "iopub.status.idle": "2022-03-13T16:01:30.897514Z",
     "shell.execute_reply": "2022-03-13T16:01:30.897124Z",
     "shell.execute_reply.started": "2022-03-13T15:45:00.558795Z"
    },
    "papermill": {
     "duration": 0.028206,
     "end_time": "2022-03-13T16:01:30.897617",
     "exception": false,
     "start_time": "2022-03-13T16:01:30.869411",
     "status": "completed"
    },
    "tags": []
   },
   "outputs": [],
   "source": [
    "def main(fold):\n",
    "    def get_result(result_df):\n",
    "        preds = result_df['preds'].values\n",
    "        labels = result_df[CFG.target_col].values\n",
    "        score = get_score(labels, preds)\n",
    "        LOGGER.info(f'Score: {score:<.5f}')\n",
    "    \n",
    "    def get_result2(result_df):\n",
    "        preds = result_df['preds'].values\n",
    "        labels = result_df[CFG.target_col].values\n",
    "        matrix = get_confusion_matrix(labels, preds)\n",
    "        print('TN', matrix[0,0])\n",
    "        print('FP', matrix[0,1])\n",
    "        print('FN', matrix[1,0])\n",
    "        print('TP', matrix[1,1])\n",
    "    \n",
    "    # train \n",
    "    train_folds = folds.query(f'fold!={fold}').reset_index(drop=True)\n",
    "    valid_folds = folds.query(f'fold=={fold}').reset_index(drop=False)\n",
    "    oof_df, scores = train_loop(train_folds, valid_folds)\n",
    "    # CV result\n",
    "    LOGGER.info(f\"========== CV ==========\")\n",
    "    get_result(oof_df)\n",
    "    get_result2(oof_df)\n",
    "    # save result\n",
    "    oof_df.to_csv(OUTPUT_DIR+'oof_df.csv', index=False)\n",
    "    plt.plot([i for i in range(CFG.epochs)], scores)\n",
    "    plt.title('valid score')\n",
    "    plt.show()"
   ]
  },
  {
   "cell_type": "code",
   "execution_count": 13,
   "id": "f1faf1b7",
   "metadata": {
    "execution": {
     "iopub.execute_input": "2022-03-13T16:01:30.936531Z",
     "iopub.status.busy": "2022-03-13T16:01:30.935721Z",
     "iopub.status.idle": "2022-03-13T16:12:32.449631Z",
     "shell.execute_reply": "2022-03-13T16:12:32.450059Z",
     "shell.execute_reply.started": "2022-03-13T15:45:00.575699Z"
    },
    "papermill": {
     "duration": 661.535259,
     "end_time": "2022-03-13T16:12:32.450215",
     "exception": false,
     "start_time": "2022-03-13T16:01:30.914956",
     "status": "completed"
    },
    "tags": []
   },
   "outputs": [
    {
     "name": "stderr",
     "output_type": "stream",
     "text": [
      "========== training ==========\n",
      "Downloading: \"https://github.com/rwightman/pytorch-image-models/releases/download/v0.1-rsb-weights/resnext50_32x4d_a1h-0146ab0a.pth\" to /root/.cache/torch/hub/checkpoints/resnext50_32x4d_a1h-0146ab0a.pth\n"
     ]
    },
    {
     "name": "stdout",
     "output_type": "stream",
     "text": [
      "Epoch: [1][1/192] Data 0.983 (0.983) Elapsed 0m 7s (remain 24m 54s) Loss: 0.6861(0.6861) Grad: 44.5738  \n",
      "Epoch: [1][101/192] Data 0.000 (0.010) Elapsed 0m 38s (remain 0m 35s) Loss: 0.3485(0.5323) Grad: 17.9507  \n",
      "Epoch: [1][192/192] Data 0.000 (0.006) Elapsed 1m 6s (remain 0m 0s) Loss: 0.5620(0.4709) Grad: 29.5258  \n",
      "EVAL: [1/49] Data 0.512 (0.512) Elapsed 0m 0s (remain 0m 28s) Loss: 0.3582(0.3582) \n"
     ]
    },
    {
     "name": "stderr",
     "output_type": "stream",
     "text": [
      "Epoch 1 - avg_train_loss: 0.4709  avg_val_loss: 0.3804  time: 73s\n",
      "Epoch 1 - Accuracy: 0.8556566970091027\n",
      "Epoch 1 - Save Best Score: 0.8557 Model\n"
     ]
    },
    {
     "name": "stdout",
     "output_type": "stream",
     "text": [
      "EVAL: [49/49] Data 0.000 (0.043) Elapsed 0m 5s (remain 0m 0s) Loss: 0.3406(0.3804) \n",
      "Epoch: [2][1/192] Data 0.866 (0.866) Elapsed 0m 1s (remain 3m 49s) Loss: 0.3337(0.3337) Grad: 16.2094  \n",
      "Epoch: [2][101/192] Data 0.002 (0.009) Elapsed 0m 32s (remain 0m 28s) Loss: 0.2844(0.3516) Grad: 15.1736  \n",
      "Epoch: [2][192/192] Data 0.000 (0.005) Elapsed 1m 0s (remain 0m 0s) Loss: 0.4658(0.3365) Grad: 19.8805  \n",
      "EVAL: [1/49] Data 0.337 (0.337) Elapsed 0m 0s (remain 0m 19s) Loss: 0.3556(0.3556) \n"
     ]
    },
    {
     "name": "stderr",
     "output_type": "stream",
     "text": [
      "Epoch 2 - avg_train_loss: 0.3365  avg_val_loss: 0.3582  time: 64s\n",
      "Epoch 2 - Accuracy: 0.8693107932379714\n",
      "Epoch 2 - Save Best Score: 0.8693 Model\n"
     ]
    },
    {
     "name": "stdout",
     "output_type": "stream",
     "text": [
      "EVAL: [49/49] Data 0.000 (0.008) Elapsed 0m 4s (remain 0m 0s) Loss: 0.3962(0.3582) \n",
      "Epoch: [3][1/192] Data 0.827 (0.827) Elapsed 0m 1s (remain 3m 47s) Loss: 0.2753(0.2753) Grad: 11.7961  \n",
      "Epoch: [3][101/192] Data 0.000 (0.009) Elapsed 0m 31s (remain 0m 28s) Loss: 0.2417(0.3088) Grad: 15.9372  \n",
      "Epoch: [3][192/192] Data 0.000 (0.005) Elapsed 1m 0s (remain 0m 0s) Loss: 0.3662(0.2942) Grad: 15.6829  \n",
      "EVAL: [1/49] Data 0.348 (0.348) Elapsed 0m 0s (remain 0m 20s) Loss: 0.4542(0.4542) \n"
     ]
    },
    {
     "name": "stderr",
     "output_type": "stream",
     "text": [
      "Epoch 3 - avg_train_loss: 0.2942  avg_val_loss: 0.3339  time: 64s\n",
      "Epoch 3 - Accuracy: 0.8797139141742523\n",
      "Epoch 3 - Save Best Score: 0.8797 Model\n"
     ]
    },
    {
     "name": "stdout",
     "output_type": "stream",
     "text": [
      "EVAL: [49/49] Data 0.000 (0.008) Elapsed 0m 4s (remain 0m 0s) Loss: 0.4881(0.3339) \n",
      "Epoch: [4][1/192] Data 0.997 (0.997) Elapsed 0m 1s (remain 4m 27s) Loss: 0.1697(0.1697) Grad: 10.6706  \n",
      "Epoch: [4][101/192] Data 0.000 (0.011) Elapsed 0m 32s (remain 0m 29s) Loss: 0.1707(0.2812) Grad: 9.2352  \n",
      "Epoch: [4][192/192] Data 0.000 (0.006) Elapsed 1m 0s (remain 0m 0s) Loss: 0.2922(0.2683) Grad: 15.6587  \n",
      "EVAL: [1/49] Data 0.310 (0.310) Elapsed 0m 0s (remain 0m 18s) Loss: 0.4465(0.4465) \n"
     ]
    },
    {
     "name": "stderr",
     "output_type": "stream",
     "text": [
      "Epoch 4 - avg_train_loss: 0.2683  avg_val_loss: 0.3311  time: 65s\n",
      "Epoch 4 - Accuracy: 0.881664499349805\n",
      "Epoch 4 - Save Best Score: 0.8817 Model\n"
     ]
    },
    {
     "name": "stdout",
     "output_type": "stream",
     "text": [
      "EVAL: [49/49] Data 0.000 (0.007) Elapsed 0m 4s (remain 0m 0s) Loss: 0.5454(0.3311) \n",
      "Epoch: [5][1/192] Data 0.966 (0.966) Elapsed 0m 1s (remain 4m 12s) Loss: 0.1728(0.1728) Grad: 11.1087  \n",
      "Epoch: [5][101/192] Data 0.001 (0.010) Elapsed 0m 32s (remain 0m 29s) Loss: 0.1925(0.2457) Grad: 13.3564  \n",
      "Epoch: [5][192/192] Data 0.000 (0.006) Elapsed 1m 0s (remain 0m 0s) Loss: 0.2789(0.2328) Grad: 16.7715  \n",
      "EVAL: [1/49] Data 0.389 (0.389) Elapsed 0m 0s (remain 0m 22s) Loss: 0.4162(0.4162) \n"
     ]
    },
    {
     "name": "stderr",
     "output_type": "stream",
     "text": [
      "Epoch 5 - avg_train_loss: 0.2328  avg_val_loss: 0.3323  time: 65s\n",
      "Epoch 5 - Accuracy: 0.8823146944083224\n",
      "Epoch 5 - Save Best Score: 0.8823 Model\n"
     ]
    },
    {
     "name": "stdout",
     "output_type": "stream",
     "text": [
      "EVAL: [49/49] Data 0.000 (0.009) Elapsed 0m 4s (remain 0m 0s) Loss: 0.4877(0.3323) \n",
      "Epoch: [6][1/192] Data 0.896 (0.896) Elapsed 0m 1s (remain 3m 57s) Loss: 0.2418(0.2418) Grad: 11.7232  \n",
      "Epoch: [6][101/192] Data 0.000 (0.010) Elapsed 0m 32s (remain 0m 28s) Loss: 0.1245(0.2152) Grad: 8.9393  \n",
      "Epoch: [6][192/192] Data 0.000 (0.005) Elapsed 1m 0s (remain 0m 0s) Loss: 0.2430(0.2015) Grad: 13.7379  \n",
      "EVAL: [1/49] Data 0.313 (0.313) Elapsed 0m 0s (remain 0m 19s) Loss: 0.4529(0.4529) \n"
     ]
    },
    {
     "name": "stderr",
     "output_type": "stream",
     "text": [
      "Epoch 6 - avg_train_loss: 0.2015  avg_val_loss: 0.3578  time: 64s\n",
      "Epoch 6 - Accuracy: 0.8849154746423927\n",
      "Epoch 6 - Save Best Score: 0.8849 Model\n"
     ]
    },
    {
     "name": "stdout",
     "output_type": "stream",
     "text": [
      "EVAL: [49/49] Data 0.000 (0.007) Elapsed 0m 4s (remain 0m 0s) Loss: 0.6891(0.3578) \n",
      "Epoch: [7][1/192] Data 0.837 (0.837) Elapsed 0m 1s (remain 3m 43s) Loss: 0.1378(0.1378) Grad: 14.1288  \n",
      "Epoch: [7][101/192] Data 0.000 (0.009) Elapsed 0m 32s (remain 0m 29s) Loss: 0.0856(0.1924) Grad: 8.5511  \n",
      "Epoch: [7][192/192] Data 0.000 (0.005) Elapsed 1m 0s (remain 0m 0s) Loss: 0.2248(0.1757) Grad: 14.3300  \n",
      "EVAL: [1/49] Data 0.339 (0.339) Elapsed 0m 0s (remain 0m 20s) Loss: 0.4822(0.4822) \n"
     ]
    },
    {
     "name": "stderr",
     "output_type": "stream",
     "text": [
      "Epoch 7 - avg_train_loss: 0.1757  avg_val_loss: 0.3496  time: 64s\n",
      "Epoch 7 - Accuracy: 0.88296488946684\n"
     ]
    },
    {
     "name": "stdout",
     "output_type": "stream",
     "text": [
      "EVAL: [49/49] Data 0.000 (0.008) Elapsed 0m 4s (remain 0m 0s) Loss: 0.6277(0.3496) \n",
      "Epoch: [8][1/192] Data 0.894 (0.894) Elapsed 0m 1s (remain 3m 54s) Loss: 0.1445(0.1445) Grad: 12.2100  \n",
      "Epoch: [8][101/192] Data 0.000 (0.009) Elapsed 0m 31s (remain 0m 28s) Loss: 0.1504(0.1690) Grad: 11.8613  \n",
      "Epoch: [8][192/192] Data 0.000 (0.005) Elapsed 0m 59s (remain 0m 0s) Loss: 0.2302(0.1527) Grad: 14.9345  \n",
      "EVAL: [1/49] Data 0.370 (0.370) Elapsed 0m 0s (remain 0m 21s) Loss: 0.5256(0.5256) \n"
     ]
    },
    {
     "name": "stderr",
     "output_type": "stream",
     "text": [
      "Epoch 8 - avg_train_loss: 0.1527  avg_val_loss: 0.3492  time: 64s\n",
      "Epoch 8 - Accuracy: 0.8894668400520156\n",
      "Epoch 8 - Save Best Score: 0.8895 Model\n"
     ]
    },
    {
     "name": "stdout",
     "output_type": "stream",
     "text": [
      "EVAL: [49/49] Data 0.000 (0.008) Elapsed 0m 4s (remain 0m 0s) Loss: 0.6197(0.3492) \n",
      "Epoch: [9][1/192] Data 0.647 (0.647) Elapsed 0m 0s (remain 3m 9s) Loss: 0.1414(0.1414) Grad: 20.5579  \n",
      "Epoch: [9][101/192] Data 0.001 (0.007) Elapsed 0m 32s (remain 0m 28s) Loss: 0.1206(0.1514) Grad: 12.5111  \n",
      "Epoch: [9][192/192] Data 0.000 (0.004) Elapsed 0m 59s (remain 0m 0s) Loss: 0.1412(0.1360) Grad: 14.3256  \n",
      "EVAL: [1/49] Data 0.361 (0.361) Elapsed 0m 0s (remain 0m 21s) Loss: 0.5584(0.5584) \n"
     ]
    },
    {
     "name": "stderr",
     "output_type": "stream",
     "text": [
      "Epoch 9 - avg_train_loss: 0.1360  avg_val_loss: 0.3487  time: 64s\n",
      "Epoch 9 - Accuracy: 0.8875162548764629\n"
     ]
    },
    {
     "name": "stdout",
     "output_type": "stream",
     "text": [
      "EVAL: [49/49] Data 0.000 (0.008) Elapsed 0m 4s (remain 0m 0s) Loss: 0.5071(0.3487) \n",
      "Epoch: [10][1/192] Data 0.932 (0.932) Elapsed 0m 1s (remain 4m 11s) Loss: 0.1060(0.1060) Grad: 7.7375  \n",
      "Epoch: [10][101/192] Data 0.001 (0.010) Elapsed 0m 32s (remain 0m 28s) Loss: 0.0695(0.1501) Grad: 8.8940  \n",
      "Epoch: [10][192/192] Data 0.000 (0.006) Elapsed 0m 59s (remain 0m 0s) Loss: 0.2336(0.1335) Grad: 16.8564  \n",
      "EVAL: [1/49] Data 0.377 (0.377) Elapsed 0m 0s (remain 0m 21s) Loss: 0.5625(0.5625) \n"
     ]
    },
    {
     "name": "stderr",
     "output_type": "stream",
     "text": [
      "Epoch 10 - avg_train_loss: 0.1335  avg_val_loss: 0.3506  time: 64s\n",
      "Epoch 10 - Accuracy: 0.8855656697009102\n",
      "========== CV ==========\n",
      "Score: 0.88947\n"
     ]
    },
    {
     "name": "stdout",
     "output_type": "stream",
     "text": [
      "EVAL: [49/49] Data 0.000 (0.008) Elapsed 0m 4s (remain 0m 0s) Loss: 0.4102(0.3506) \n",
      "TN 1120\n",
      "FP 31\n",
      "FN 139\n",
      "TP 248\n"
     ]
    },
    {
     "data": {
      "image/png": "[encoded data removed]",
      "text/plain": [
       "<Figure size 432x288 with 1 Axes>"
      ]
     },
     "metadata": {
      "needs_background": "light"
     },
     "output_type": "display_data"
    }
   ],
   "source": [
    "if __name__ == '__main__':\n",
    "    main(0)"
   ]
  },
  {
   "cell_type": "code",
   "execution_count": null,
   "id": "b7096410",
   "metadata": {
    "papermill": {
     "duration": 0.054822,
     "end_time": "2022-03-13T16:12:32.547879",
     "exception": false,
     "start_time": "2022-03-13T16:12:32.493057",
     "status": "completed"
    },
    "tags": []
   },
   "outputs": [],
   "source": []
  }
 ],
 "metadata": {
  "kernelspec": {
   "display_name": "Python 3",
   "language": "python",
   "name": "python3"
  },
  "language_info": {
   "codemirror_mode": {
    "name": "ipython",
    "version": 3
   },
   "file_extension": ".py",
   "mimetype": "text/x-python",
   "name": "python",
   "nbconvert_exporter": "python",
   "pygments_lexer": "ipython3",
   "version": "3.7.12"
  },
  "papermill": {
   "default_parameters": {},
   "duration": 694.582854,
   "end_time": "2022-03-13T16:12:35.208428",
   "environment_variables": {},
   "exception": null,
   "input_path": "__notebook__.ipynb",
   "output_path": "__notebook__.ipynb",
   "parameters": {},
   "start_time": "2022-03-13T16:01:00.625574",
   "version": "2.3.3"
  }
 },
 "nbformat": 4,
 "nbformat_minor": 5
}
